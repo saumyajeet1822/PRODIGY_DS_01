{
  "nbformat": 4,
  "nbformat_minor": 0,
  "metadata": {
    "colab": {
      "provenance": [],
      "authorship_tag": "ABX9TyNVHqYKcr6wqeS2FjUF1/tR",
      "include_colab_link": true
    },
    "kernelspec": {
      "name": "python3",
      "display_name": "Python 3"
    },
    "language_info": {
      "name": "python"
    }
  },
  "cells": [
    {
      "cell_type": "markdown",
      "metadata": {
        "id": "view-in-github",
        "colab_type": "text"
      },
      "source": [
        "<a href=\"https://colab.research.google.com/github/saumyajeet1822/PRODIGY_DS_01/blob/main/Task1.ipynb\" target=\"_parent\"><img src=\"https://colab.research.google.com/assets/colab-badge.svg\" alt=\"Open In Colab\"/></a>"
      ]
    },
    {
      "cell_type": "markdown",
      "source": [
        "Task 1 : Prodigy InfoTech"
      ],
      "metadata": {
        "id": "m1sXIDxyUeG_"
      }
    },
    {
      "cell_type": "markdown",
      "source": [
        "Author : Saumyajeet Das"
      ],
      "metadata": {
        "id": "Ntjx5csFUlSl"
      }
    },
    {
      "cell_type": "code",
      "source": [
        "#Imported CSV from google drive\n",
        "from google.colab import drive\n",
        "drive.mount('/content/drive')"
      ],
      "metadata": {
        "colab": {
          "base_uri": "https://localhost:8080/"
        },
        "id": "9jlWYRXyM6Gd",
        "outputId": "ee339351-3a4f-4fb6-92af-e6e603941d63"
      },
      "execution_count": 5,
      "outputs": [
        {
          "output_type": "stream",
          "name": "stdout",
          "text": [
            "Mounted at /content/drive\n"
          ]
        }
      ]
    },
    {
      "cell_type": "code",
      "source": [
        "import pandas as pd\n",
        "df = pd.read_csv('/content/drive/My Drive/cars.csv')"
      ],
      "metadata": {
        "id": "X6xCoQDjO5UC"
      },
      "execution_count": 7,
      "outputs": []
    },
    {
      "cell_type": "code",
      "source": [
        "df"
      ],
      "metadata": {
        "colab": {
          "base_uri": "https://localhost:8080/",
          "height": 444
        },
        "id": "EmmgAMvrPIFz",
        "outputId": "271c7ec9-804a-40a6-f9d5-52b66f510972"
      },
      "execution_count": 10,
      "outputs": [
        {
          "output_type": "execute_result",
          "data": {
            "text/plain": [
              "      manufacturer_name  model_name transmission   color  odometer_value  \\\n",
              "0                Subaru     Outback    automatic  silver          190000   \n",
              "1                Subaru     Outback    automatic    blue          290000   \n",
              "2                Subaru    Forester    automatic     red          402000   \n",
              "3                Subaru     Impreza   mechanical    blue           10000   \n",
              "4                Subaru      Legacy    automatic   black          280000   \n",
              "...                 ...         ...          ...     ...             ...   \n",
              "38526          Chrysler         300    automatic  silver          290000   \n",
              "38527          Chrysler  PT Cruiser   mechanical    blue          321000   \n",
              "38528          Chrysler         300    automatic    blue          777957   \n",
              "38529          Chrysler  PT Cruiser   mechanical   black           20000   \n",
              "38530          Chrysler     Voyager    automatic  silver          297729   \n",
              "\n",
              "       year_produced engine_fuel  engine_has_gas engine_type  engine_capacity  \\\n",
              "0               2010    gasoline           False    gasoline              2.5   \n",
              "1               2002    gasoline           False    gasoline              3.0   \n",
              "2               2001    gasoline           False    gasoline              2.5   \n",
              "3               1999    gasoline           False    gasoline              3.0   \n",
              "4               2001    gasoline           False    gasoline              2.5   \n",
              "...              ...         ...             ...         ...              ...   \n",
              "38526           2000    gasoline           False    gasoline              3.5   \n",
              "38527           2004      diesel           False      diesel              2.2   \n",
              "38528           2000    gasoline           False    gasoline              3.5   \n",
              "38529           2001    gasoline           False    gasoline              2.0   \n",
              "38530           2000    gasoline           False    gasoline              2.4   \n",
              "\n",
              "       ... feature_1  feature_2 feature_3 feature_4  feature_5  feature_6  \\\n",
              "0      ...      True       True      True     False       True      False   \n",
              "1      ...      True      False     False      True       True      False   \n",
              "2      ...      True      False     False     False      False      False   \n",
              "3      ...     False      False     False     False      False      False   \n",
              "4      ...      True      False      True      True      False      False   \n",
              "...    ...       ...        ...       ...       ...        ...        ...   \n",
              "38526  ...      True      False     False      True       True      False   \n",
              "38527  ...      True      False     False      True       True      False   \n",
              "38528  ...      True      False     False      True       True      False   \n",
              "38529  ...      True      False     False     False      False      False   \n",
              "38530  ...     False      False     False     False      False      False   \n",
              "\n",
              "      feature_7  feature_8  feature_9  duration_listed  \n",
              "0          True       True       True               16  \n",
              "1         False      False       True               83  \n",
              "2         False       True       True              151  \n",
              "3         False      False      False               86  \n",
              "4         False      False       True                7  \n",
              "...         ...        ...        ...              ...  \n",
              "38526     False       True       True              301  \n",
              "38527     False       True       True              317  \n",
              "38528     False       True       True              369  \n",
              "38529     False      False       True              490  \n",
              "38530     False      False       True              632  \n",
              "\n",
              "[38531 rows x 30 columns]"
            ],
            "text/html": [
              "\n",
              "  <div id=\"df-d20f5db2-95fe-4049-b8d0-e597a2031111\" class=\"colab-df-container\">\n",
              "    <div>\n",
              "<style scoped>\n",
              "    .dataframe tbody tr th:only-of-type {\n",
              "        vertical-align: middle;\n",
              "    }\n",
              "\n",
              "    .dataframe tbody tr th {\n",
              "        vertical-align: top;\n",
              "    }\n",
              "\n",
              "    .dataframe thead th {\n",
              "        text-align: right;\n",
              "    }\n",
              "</style>\n",
              "<table border=\"1\" class=\"dataframe\">\n",
              "  <thead>\n",
              "    <tr style=\"text-align: right;\">\n",
              "      <th></th>\n",
              "      <th>manufacturer_name</th>\n",
              "      <th>model_name</th>\n",
              "      <th>transmission</th>\n",
              "      <th>color</th>\n",
              "      <th>odometer_value</th>\n",
              "      <th>year_produced</th>\n",
              "      <th>engine_fuel</th>\n",
              "      <th>engine_has_gas</th>\n",
              "      <th>engine_type</th>\n",
              "      <th>engine_capacity</th>\n",
              "      <th>...</th>\n",
              "      <th>feature_1</th>\n",
              "      <th>feature_2</th>\n",
              "      <th>feature_3</th>\n",
              "      <th>feature_4</th>\n",
              "      <th>feature_5</th>\n",
              "      <th>feature_6</th>\n",
              "      <th>feature_7</th>\n",
              "      <th>feature_8</th>\n",
              "      <th>feature_9</th>\n",
              "      <th>duration_listed</th>\n",
              "    </tr>\n",
              "  </thead>\n",
              "  <tbody>\n",
              "    <tr>\n",
              "      <th>0</th>\n",
              "      <td>Subaru</td>\n",
              "      <td>Outback</td>\n",
              "      <td>automatic</td>\n",
              "      <td>silver</td>\n",
              "      <td>190000</td>\n",
              "      <td>2010</td>\n",
              "      <td>gasoline</td>\n",
              "      <td>False</td>\n",
              "      <td>gasoline</td>\n",
              "      <td>2.5</td>\n",
              "      <td>...</td>\n",
              "      <td>True</td>\n",
              "      <td>True</td>\n",
              "      <td>True</td>\n",
              "      <td>False</td>\n",
              "      <td>True</td>\n",
              "      <td>False</td>\n",
              "      <td>True</td>\n",
              "      <td>True</td>\n",
              "      <td>True</td>\n",
              "      <td>16</td>\n",
              "    </tr>\n",
              "    <tr>\n",
              "      <th>1</th>\n",
              "      <td>Subaru</td>\n",
              "      <td>Outback</td>\n",
              "      <td>automatic</td>\n",
              "      <td>blue</td>\n",
              "      <td>290000</td>\n",
              "      <td>2002</td>\n",
              "      <td>gasoline</td>\n",
              "      <td>False</td>\n",
              "      <td>gasoline</td>\n",
              "      <td>3.0</td>\n",
              "      <td>...</td>\n",
              "      <td>True</td>\n",
              "      <td>False</td>\n",
              "      <td>False</td>\n",
              "      <td>True</td>\n",
              "      <td>True</td>\n",
              "      <td>False</td>\n",
              "      <td>False</td>\n",
              "      <td>False</td>\n",
              "      <td>True</td>\n",
              "      <td>83</td>\n",
              "    </tr>\n",
              "    <tr>\n",
              "      <th>2</th>\n",
              "      <td>Subaru</td>\n",
              "      <td>Forester</td>\n",
              "      <td>automatic</td>\n",
              "      <td>red</td>\n",
              "      <td>402000</td>\n",
              "      <td>2001</td>\n",
              "      <td>gasoline</td>\n",
              "      <td>False</td>\n",
              "      <td>gasoline</td>\n",
              "      <td>2.5</td>\n",
              "      <td>...</td>\n",
              "      <td>True</td>\n",
              "      <td>False</td>\n",
              "      <td>False</td>\n",
              "      <td>False</td>\n",
              "      <td>False</td>\n",
              "      <td>False</td>\n",
              "      <td>False</td>\n",
              "      <td>True</td>\n",
              "      <td>True</td>\n",
              "      <td>151</td>\n",
              "    </tr>\n",
              "    <tr>\n",
              "      <th>3</th>\n",
              "      <td>Subaru</td>\n",
              "      <td>Impreza</td>\n",
              "      <td>mechanical</td>\n",
              "      <td>blue</td>\n",
              "      <td>10000</td>\n",
              "      <td>1999</td>\n",
              "      <td>gasoline</td>\n",
              "      <td>False</td>\n",
              "      <td>gasoline</td>\n",
              "      <td>3.0</td>\n",
              "      <td>...</td>\n",
              "      <td>False</td>\n",
              "      <td>False</td>\n",
              "      <td>False</td>\n",
              "      <td>False</td>\n",
              "      <td>False</td>\n",
              "      <td>False</td>\n",
              "      <td>False</td>\n",
              "      <td>False</td>\n",
              "      <td>False</td>\n",
              "      <td>86</td>\n",
              "    </tr>\n",
              "    <tr>\n",
              "      <th>4</th>\n",
              "      <td>Subaru</td>\n",
              "      <td>Legacy</td>\n",
              "      <td>automatic</td>\n",
              "      <td>black</td>\n",
              "      <td>280000</td>\n",
              "      <td>2001</td>\n",
              "      <td>gasoline</td>\n",
              "      <td>False</td>\n",
              "      <td>gasoline</td>\n",
              "      <td>2.5</td>\n",
              "      <td>...</td>\n",
              "      <td>True</td>\n",
              "      <td>False</td>\n",
              "      <td>True</td>\n",
              "      <td>True</td>\n",
              "      <td>False</td>\n",
              "      <td>False</td>\n",
              "      <td>False</td>\n",
              "      <td>False</td>\n",
              "      <td>True</td>\n",
              "      <td>7</td>\n",
              "    </tr>\n",
              "    <tr>\n",
              "      <th>...</th>\n",
              "      <td>...</td>\n",
              "      <td>...</td>\n",
              "      <td>...</td>\n",
              "      <td>...</td>\n",
              "      <td>...</td>\n",
              "      <td>...</td>\n",
              "      <td>...</td>\n",
              "      <td>...</td>\n",
              "      <td>...</td>\n",
              "      <td>...</td>\n",
              "      <td>...</td>\n",
              "      <td>...</td>\n",
              "      <td>...</td>\n",
              "      <td>...</td>\n",
              "      <td>...</td>\n",
              "      <td>...</td>\n",
              "      <td>...</td>\n",
              "      <td>...</td>\n",
              "      <td>...</td>\n",
              "      <td>...</td>\n",
              "      <td>...</td>\n",
              "    </tr>\n",
              "    <tr>\n",
              "      <th>38526</th>\n",
              "      <td>Chrysler</td>\n",
              "      <td>300</td>\n",
              "      <td>automatic</td>\n",
              "      <td>silver</td>\n",
              "      <td>290000</td>\n",
              "      <td>2000</td>\n",
              "      <td>gasoline</td>\n",
              "      <td>False</td>\n",
              "      <td>gasoline</td>\n",
              "      <td>3.5</td>\n",
              "      <td>...</td>\n",
              "      <td>True</td>\n",
              "      <td>False</td>\n",
              "      <td>False</td>\n",
              "      <td>True</td>\n",
              "      <td>True</td>\n",
              "      <td>False</td>\n",
              "      <td>False</td>\n",
              "      <td>True</td>\n",
              "      <td>True</td>\n",
              "      <td>301</td>\n",
              "    </tr>\n",
              "    <tr>\n",
              "      <th>38527</th>\n",
              "      <td>Chrysler</td>\n",
              "      <td>PT Cruiser</td>\n",
              "      <td>mechanical</td>\n",
              "      <td>blue</td>\n",
              "      <td>321000</td>\n",
              "      <td>2004</td>\n",
              "      <td>diesel</td>\n",
              "      <td>False</td>\n",
              "      <td>diesel</td>\n",
              "      <td>2.2</td>\n",
              "      <td>...</td>\n",
              "      <td>True</td>\n",
              "      <td>False</td>\n",
              "      <td>False</td>\n",
              "      <td>True</td>\n",
              "      <td>True</td>\n",
              "      <td>False</td>\n",
              "      <td>False</td>\n",
              "      <td>True</td>\n",
              "      <td>True</td>\n",
              "      <td>317</td>\n",
              "    </tr>\n",
              "    <tr>\n",
              "      <th>38528</th>\n",
              "      <td>Chrysler</td>\n",
              "      <td>300</td>\n",
              "      <td>automatic</td>\n",
              "      <td>blue</td>\n",
              "      <td>777957</td>\n",
              "      <td>2000</td>\n",
              "      <td>gasoline</td>\n",
              "      <td>False</td>\n",
              "      <td>gasoline</td>\n",
              "      <td>3.5</td>\n",
              "      <td>...</td>\n",
              "      <td>True</td>\n",
              "      <td>False</td>\n",
              "      <td>False</td>\n",
              "      <td>True</td>\n",
              "      <td>True</td>\n",
              "      <td>False</td>\n",
              "      <td>False</td>\n",
              "      <td>True</td>\n",
              "      <td>True</td>\n",
              "      <td>369</td>\n",
              "    </tr>\n",
              "    <tr>\n",
              "      <th>38529</th>\n",
              "      <td>Chrysler</td>\n",
              "      <td>PT Cruiser</td>\n",
              "      <td>mechanical</td>\n",
              "      <td>black</td>\n",
              "      <td>20000</td>\n",
              "      <td>2001</td>\n",
              "      <td>gasoline</td>\n",
              "      <td>False</td>\n",
              "      <td>gasoline</td>\n",
              "      <td>2.0</td>\n",
              "      <td>...</td>\n",
              "      <td>True</td>\n",
              "      <td>False</td>\n",
              "      <td>False</td>\n",
              "      <td>False</td>\n",
              "      <td>False</td>\n",
              "      <td>False</td>\n",
              "      <td>False</td>\n",
              "      <td>False</td>\n",
              "      <td>True</td>\n",
              "      <td>490</td>\n",
              "    </tr>\n",
              "    <tr>\n",
              "      <th>38530</th>\n",
              "      <td>Chrysler</td>\n",
              "      <td>Voyager</td>\n",
              "      <td>automatic</td>\n",
              "      <td>silver</td>\n",
              "      <td>297729</td>\n",
              "      <td>2000</td>\n",
              "      <td>gasoline</td>\n",
              "      <td>False</td>\n",
              "      <td>gasoline</td>\n",
              "      <td>2.4</td>\n",
              "      <td>...</td>\n",
              "      <td>False</td>\n",
              "      <td>False</td>\n",
              "      <td>False</td>\n",
              "      <td>False</td>\n",
              "      <td>False</td>\n",
              "      <td>False</td>\n",
              "      <td>False</td>\n",
              "      <td>False</td>\n",
              "      <td>True</td>\n",
              "      <td>632</td>\n",
              "    </tr>\n",
              "  </tbody>\n",
              "</table>\n",
              "<p>38531 rows × 30 columns</p>\n",
              "</div>\n",
              "    <div class=\"colab-df-buttons\">\n",
              "\n",
              "  <div class=\"colab-df-container\">\n",
              "    <button class=\"colab-df-convert\" onclick=\"convertToInteractive('df-d20f5db2-95fe-4049-b8d0-e597a2031111')\"\n",
              "            title=\"Convert this dataframe to an interactive table.\"\n",
              "            style=\"display:none;\">\n",
              "\n",
              "  <svg xmlns=\"http://www.w3.org/2000/svg\" height=\"24px\" viewBox=\"0 -960 960 960\">\n",
              "    <path d=\"M120-120v-720h720v720H120Zm60-500h600v-160H180v160Zm220 220h160v-160H400v160Zm0 220h160v-160H400v160ZM180-400h160v-160H180v160Zm440 0h160v-160H620v160ZM180-180h160v-160H180v160Zm440 0h160v-160H620v160Z\"/>\n",
              "  </svg>\n",
              "    </button>\n",
              "\n",
              "  <style>\n",
              "    .colab-df-container {\n",
              "      display:flex;\n",
              "      gap: 12px;\n",
              "    }\n",
              "\n",
              "    .colab-df-convert {\n",
              "      background-color: #E8F0FE;\n",
              "      border: none;\n",
              "      border-radius: 50%;\n",
              "      cursor: pointer;\n",
              "      display: none;\n",
              "      fill: #1967D2;\n",
              "      height: 32px;\n",
              "      padding: 0 0 0 0;\n",
              "      width: 32px;\n",
              "    }\n",
              "\n",
              "    .colab-df-convert:hover {\n",
              "      background-color: #E2EBFA;\n",
              "      box-shadow: 0px 1px 2px rgba(60, 64, 67, 0.3), 0px 1px 3px 1px rgba(60, 64, 67, 0.15);\n",
              "      fill: #174EA6;\n",
              "    }\n",
              "\n",
              "    .colab-df-buttons div {\n",
              "      margin-bottom: 4px;\n",
              "    }\n",
              "\n",
              "    [theme=dark] .colab-df-convert {\n",
              "      background-color: #3B4455;\n",
              "      fill: #D2E3FC;\n",
              "    }\n",
              "\n",
              "    [theme=dark] .colab-df-convert:hover {\n",
              "      background-color: #434B5C;\n",
              "      box-shadow: 0px 1px 3px 1px rgba(0, 0, 0, 0.15);\n",
              "      filter: drop-shadow(0px 1px 2px rgba(0, 0, 0, 0.3));\n",
              "      fill: #FFFFFF;\n",
              "    }\n",
              "  </style>\n",
              "\n",
              "    <script>\n",
              "      const buttonEl =\n",
              "        document.querySelector('#df-d20f5db2-95fe-4049-b8d0-e597a2031111 button.colab-df-convert');\n",
              "      buttonEl.style.display =\n",
              "        google.colab.kernel.accessAllowed ? 'block' : 'none';\n",
              "\n",
              "      async function convertToInteractive(key) {\n",
              "        const element = document.querySelector('#df-d20f5db2-95fe-4049-b8d0-e597a2031111');\n",
              "        const dataTable =\n",
              "          await google.colab.kernel.invokeFunction('convertToInteractive',\n",
              "                                                    [key], {});\n",
              "        if (!dataTable) return;\n",
              "\n",
              "        const docLinkHtml = 'Like what you see? Visit the ' +\n",
              "          '<a target=\"_blank\" href=https://colab.research.google.com/notebooks/data_table.ipynb>data table notebook</a>'\n",
              "          + ' to learn more about interactive tables.';\n",
              "        element.innerHTML = '';\n",
              "        dataTable['output_type'] = 'display_data';\n",
              "        await google.colab.output.renderOutput(dataTable, element);\n",
              "        const docLink = document.createElement('div');\n",
              "        docLink.innerHTML = docLinkHtml;\n",
              "        element.appendChild(docLink);\n",
              "      }\n",
              "    </script>\n",
              "  </div>\n",
              "\n",
              "\n",
              "<div id=\"df-6f671e8d-552d-495e-8b03-be32b8e64cb1\">\n",
              "  <button class=\"colab-df-quickchart\" onclick=\"quickchart('df-6f671e8d-552d-495e-8b03-be32b8e64cb1')\"\n",
              "            title=\"Suggest charts.\"\n",
              "            style=\"display:none;\">\n",
              "\n",
              "<svg xmlns=\"http://www.w3.org/2000/svg\" height=\"24px\"viewBox=\"0 0 24 24\"\n",
              "     width=\"24px\">\n",
              "    <g>\n",
              "        <path d=\"M19 3H5c-1.1 0-2 .9-2 2v14c0 1.1.9 2 2 2h14c1.1 0 2-.9 2-2V5c0-1.1-.9-2-2-2zM9 17H7v-7h2v7zm4 0h-2V7h2v10zm4 0h-2v-4h2v4z\"/>\n",
              "    </g>\n",
              "</svg>\n",
              "  </button>\n",
              "\n",
              "<style>\n",
              "  .colab-df-quickchart {\n",
              "      --bg-color: #E8F0FE;\n",
              "      --fill-color: #1967D2;\n",
              "      --hover-bg-color: #E2EBFA;\n",
              "      --hover-fill-color: #174EA6;\n",
              "      --disabled-fill-color: #AAA;\n",
              "      --disabled-bg-color: #DDD;\n",
              "  }\n",
              "\n",
              "  [theme=dark] .colab-df-quickchart {\n",
              "      --bg-color: #3B4455;\n",
              "      --fill-color: #D2E3FC;\n",
              "      --hover-bg-color: #434B5C;\n",
              "      --hover-fill-color: #FFFFFF;\n",
              "      --disabled-bg-color: #3B4455;\n",
              "      --disabled-fill-color: #666;\n",
              "  }\n",
              "\n",
              "  .colab-df-quickchart {\n",
              "    background-color: var(--bg-color);\n",
              "    border: none;\n",
              "    border-radius: 50%;\n",
              "    cursor: pointer;\n",
              "    display: none;\n",
              "    fill: var(--fill-color);\n",
              "    height: 32px;\n",
              "    padding: 0;\n",
              "    width: 32px;\n",
              "  }\n",
              "\n",
              "  .colab-df-quickchart:hover {\n",
              "    background-color: var(--hover-bg-color);\n",
              "    box-shadow: 0 1px 2px rgba(60, 64, 67, 0.3), 0 1px 3px 1px rgba(60, 64, 67, 0.15);\n",
              "    fill: var(--button-hover-fill-color);\n",
              "  }\n",
              "\n",
              "  .colab-df-quickchart-complete:disabled,\n",
              "  .colab-df-quickchart-complete:disabled:hover {\n",
              "    background-color: var(--disabled-bg-color);\n",
              "    fill: var(--disabled-fill-color);\n",
              "    box-shadow: none;\n",
              "  }\n",
              "\n",
              "  .colab-df-spinner {\n",
              "    border: 2px solid var(--fill-color);\n",
              "    border-color: transparent;\n",
              "    border-bottom-color: var(--fill-color);\n",
              "    animation:\n",
              "      spin 1s steps(1) infinite;\n",
              "  }\n",
              "\n",
              "  @keyframes spin {\n",
              "    0% {\n",
              "      border-color: transparent;\n",
              "      border-bottom-color: var(--fill-color);\n",
              "      border-left-color: var(--fill-color);\n",
              "    }\n",
              "    20% {\n",
              "      border-color: transparent;\n",
              "      border-left-color: var(--fill-color);\n",
              "      border-top-color: var(--fill-color);\n",
              "    }\n",
              "    30% {\n",
              "      border-color: transparent;\n",
              "      border-left-color: var(--fill-color);\n",
              "      border-top-color: var(--fill-color);\n",
              "      border-right-color: var(--fill-color);\n",
              "    }\n",
              "    40% {\n",
              "      border-color: transparent;\n",
              "      border-right-color: var(--fill-color);\n",
              "      border-top-color: var(--fill-color);\n",
              "    }\n",
              "    60% {\n",
              "      border-color: transparent;\n",
              "      border-right-color: var(--fill-color);\n",
              "    }\n",
              "    80% {\n",
              "      border-color: transparent;\n",
              "      border-right-color: var(--fill-color);\n",
              "      border-bottom-color: var(--fill-color);\n",
              "    }\n",
              "    90% {\n",
              "      border-color: transparent;\n",
              "      border-bottom-color: var(--fill-color);\n",
              "    }\n",
              "  }\n",
              "</style>\n",
              "\n",
              "  <script>\n",
              "    async function quickchart(key) {\n",
              "      const quickchartButtonEl =\n",
              "        document.querySelector('#' + key + ' button');\n",
              "      quickchartButtonEl.disabled = true;  // To prevent multiple clicks.\n",
              "      quickchartButtonEl.classList.add('colab-df-spinner');\n",
              "      try {\n",
              "        const charts = await google.colab.kernel.invokeFunction(\n",
              "            'suggestCharts', [key], {});\n",
              "      } catch (error) {\n",
              "        console.error('Error during call to suggestCharts:', error);\n",
              "      }\n",
              "      quickchartButtonEl.classList.remove('colab-df-spinner');\n",
              "      quickchartButtonEl.classList.add('colab-df-quickchart-complete');\n",
              "    }\n",
              "    (() => {\n",
              "      let quickchartButtonEl =\n",
              "        document.querySelector('#df-6f671e8d-552d-495e-8b03-be32b8e64cb1 button');\n",
              "      quickchartButtonEl.style.display =\n",
              "        google.colab.kernel.accessAllowed ? 'block' : 'none';\n",
              "    })();\n",
              "  </script>\n",
              "</div>\n",
              "    </div>\n",
              "  </div>\n"
            ]
          },
          "metadata": {},
          "execution_count": 10
        }
      ]
    },
    {
      "cell_type": "code",
      "source": [
        "import numpy as np\n",
        "import matplotlib.pyplot as plt\n",
        "import seaborn as sns"
      ],
      "metadata": {
        "id": "Ew036XH5PTyD"
      },
      "execution_count": 9,
      "outputs": []
    },
    {
      "cell_type": "code",
      "source": [
        "df.shape"
      ],
      "metadata": {
        "colab": {
          "base_uri": "https://localhost:8080/"
        },
        "id": "C5IfoMTLPqac",
        "outputId": "7ad38252-53ef-4577-be10-239551e43eae"
      },
      "execution_count": 11,
      "outputs": [
        {
          "output_type": "execute_result",
          "data": {
            "text/plain": [
              "(38531, 30)"
            ]
          },
          "metadata": {},
          "execution_count": 11
        }
      ]
    },
    {
      "cell_type": "code",
      "source": [
        "df.info()"
      ],
      "metadata": {
        "colab": {
          "base_uri": "https://localhost:8080/"
        },
        "id": "oGciRPA_PtBK",
        "outputId": "96ec8f52-b0c2-4a28-da92-7bee8417b6ec"
      },
      "execution_count": 12,
      "outputs": [
        {
          "output_type": "stream",
          "name": "stdout",
          "text": [
            "<class 'pandas.core.frame.DataFrame'>\n",
            "RangeIndex: 38531 entries, 0 to 38530\n",
            "Data columns (total 30 columns):\n",
            " #   Column             Non-Null Count  Dtype  \n",
            "---  ------             --------------  -----  \n",
            " 0   manufacturer_name  38531 non-null  object \n",
            " 1   model_name         38531 non-null  object \n",
            " 2   transmission       38531 non-null  object \n",
            " 3   color              38531 non-null  object \n",
            " 4   odometer_value     38531 non-null  int64  \n",
            " 5   year_produced      38531 non-null  int64  \n",
            " 6   engine_fuel        38531 non-null  object \n",
            " 7   engine_has_gas     38531 non-null  bool   \n",
            " 8   engine_type        38531 non-null  object \n",
            " 9   engine_capacity    38521 non-null  float64\n",
            " 10  body_type          38531 non-null  object \n",
            " 11  has_warranty       38531 non-null  bool   \n",
            " 12  state              38531 non-null  object \n",
            " 13  drivetrain         38531 non-null  object \n",
            " 14  price_usd          38531 non-null  float64\n",
            " 15  is_exchangeable    38531 non-null  bool   \n",
            " 16  location_region    38531 non-null  object \n",
            " 17  number_of_photos   38531 non-null  int64  \n",
            " 18  up_counter         38531 non-null  int64  \n",
            " 19  feature_0          38531 non-null  bool   \n",
            " 20  feature_1          38531 non-null  bool   \n",
            " 21  feature_2          38531 non-null  bool   \n",
            " 22  feature_3          38531 non-null  bool   \n",
            " 23  feature_4          38531 non-null  bool   \n",
            " 24  feature_5          38531 non-null  bool   \n",
            " 25  feature_6          38531 non-null  bool   \n",
            " 26  feature_7          38531 non-null  bool   \n",
            " 27  feature_8          38531 non-null  bool   \n",
            " 28  feature_9          38531 non-null  bool   \n",
            " 29  duration_listed    38531 non-null  int64  \n",
            "dtypes: bool(13), float64(2), int64(5), object(10)\n",
            "memory usage: 5.5+ MB\n"
          ]
        }
      ]
    },
    {
      "cell_type": "markdown",
      "source": [
        "#Type of engine"
      ],
      "metadata": {
        "id": "9bI48-JpQWpk"
      }
    },
    {
      "cell_type": "code",
      "source": [
        "op = [\"Purple\", \"Aqua\", \"green\"]"
      ],
      "metadata": {
        "id": "hIW_oxwFT69q"
      },
      "execution_count": 44,
      "outputs": []
    },
    {
      "cell_type": "code",
      "source": [
        "plt.figure(figsize=(5,5))\n",
        "plt.figure(figsize=(4.5, 6))\n",
        "df['engine_type'].value_counts()\\\n",
        "                .plot(kind='bar',color = op)\n",
        "\n",
        "plt.show()"
      ],
      "metadata": {
        "colab": {
          "base_uri": "https://localhost:8080/",
          "height": 583
        },
        "id": "YDjI5bMoQXT6",
        "outputId": "15a05e2a-7589-47af-b90c-61f2a14bb557"
      },
      "execution_count": 45,
      "outputs": [
        {
          "output_type": "display_data",
          "data": {
            "text/plain": [
              "<Figure size 500x500 with 0 Axes>"
            ]
          },
          "metadata": {}
        },
        {
          "output_type": "display_data",
          "data": {
            "text/plain": [
              "<Figure size 450x600 with 1 Axes>"
            ],
            "image/png": "[encoded data removed]"
          },
          "metadata": {}
        }
      ]
    },
    {
      "cell_type": "code",
      "source": [
        "feature = 'manufacturer_name'\n",
        "df['brand_count'] = df.groupby(feature)[feature].transform('count')"
      ],
      "metadata": {
        "id": "oBa91PVVQxiX"
      },
      "execution_count": 16,
      "outputs": []
    },
    {
      "cell_type": "markdown",
      "source": [
        "# Manufacturer name"
      ],
      "metadata": {
        "id": "OmGAXNmEQ0qm"
      }
    },
    {
      "cell_type": "code",
      "source": [
        "plt.figure(figsize=(8,5))\n",
        "df.loc[df['brand_count'] > 200]['manufacturer_name'].value_counts().plot(kind='bar')\n",
        "plt.ylabel('Number of cars')\n",
        "plt.xlabel(\"Car Brand\")\n",
        "plt.show()"
      ],
      "metadata": {
        "colab": {
          "base_uri": "https://localhost:8080/",
          "height": 556
        },
        "id": "qqBWdH83Q36h",
        "outputId": "00385eb7-eb0b-4e09-d9ce-3a09d2a4cc4f"
      },
      "execution_count": 22,
      "outputs": [
        {
          "output_type": "display_data",
          "data": {
            "text/plain": [
              "<Figure size 800x500 with 1 Axes>"
            ],
            "image/png": "[encoded data removed]"
          },
          "metadata": {}
        }
      ]
    },
    {
      "cell_type": "markdown",
      "source": [
        "Transmission Type"
      ],
      "metadata": {
        "id": "nysdVQw-Rx_n"
      }
    },
    {
      "cell_type": "code",
      "source": [
        "ad = [\"Yellow\", \"Pink\"]"
      ],
      "metadata": {
        "id": "1qMaSi_GTu4C"
      },
      "execution_count": 40,
      "outputs": []
    },
    {
      "cell_type": "code",
      "source": [
        "plt.figure(figsize=(5,5))\n",
        "plt.figure(figsize=(4.5, 6))\n",
        "df['transmission'].value_counts()\\\n",
        "                .plot(kind='bar',color = ad)\n",
        "plt.show()"
      ],
      "metadata": {
        "colab": {
          "base_uri": "https://localhost:8080/",
          "height": 605
        },
        "id": "xdS0mm8jR0sH",
        "outputId": "88a671eb-5fcb-4718-c371-393bb641da9b"
      },
      "execution_count": 41,
      "outputs": [
        {
          "output_type": "display_data",
          "data": {
            "text/plain": [
              "<Figure size 500x500 with 0 Axes>"
            ]
          },
          "metadata": {}
        },
        {
          "output_type": "display_data",
          "data": {
            "text/plain": [
              "<Figure size 450x600 with 1 Axes>"
            ],
            "image/png": "[encoded data removed]"
          },
          "metadata": {}
        }
      ]
    },
    {
      "cell_type": "markdown",
      "source": [
        "Color of the car"
      ],
      "metadata": {
        "id": "2U-125U-SDdT"
      }
    },
    {
      "cell_type": "code",
      "source": [
        "plt.figure(figsize=(8, 6))\n",
        "df['color'].value_counts()\\\n",
        "                .plot(kind='bar')\n",
        "plt.show()"
      ],
      "metadata": {
        "colab": {
          "base_uri": "https://localhost:8080/",
          "height": 558
        },
        "id": "wWcXx-UaSFlO",
        "outputId": "785f4fb3-2dd3-4174-a6de-f373ff2a32c6"
      },
      "execution_count": 26,
      "outputs": [
        {
          "output_type": "display_data",
          "data": {
            "text/plain": [
              "<Figure size 800x600 with 1 Axes>"
            ],
            "image/png": "[encoded data removed]"
          },
          "metadata": {}
        }
      ]
    },
    {
      "cell_type": "markdown",
      "source": [
        "Body Type"
      ],
      "metadata": {
        "id": "-4k2ahhxSKak"
      }
    },
    {
      "cell_type": "code",
      "source": [
        "colors = \"r\""
      ],
      "metadata": {
        "id": "fDYq0dvIS5yU"
      },
      "execution_count": 34,
      "outputs": []
    },
    {
      "cell_type": "code",
      "source": [
        "plt.figure(figsize=(10, 5))\n",
        "df['body_type'].value_counts() \\\n",
        "                .plot(kind='bar',color=colors)\n",
        "plt.show()"
      ],
      "metadata": {
        "colab": {
          "base_uri": "https://localhost:8080/",
          "height": 504
        },
        "id": "2PP7G-hGSMBa",
        "outputId": "5f7bdb6f-528d-4a9e-e5a4-bf7137f77a88"
      },
      "execution_count": 35,
      "outputs": [
        {
          "output_type": "display_data",
          "data": {
            "text/plain": [
              "<Figure size 1000x500 with 1 Axes>"
            ],
            "image/png": "[encoded data removed]"
          },
          "metadata": {}
        }
      ]
    },
    {
      "cell_type": "markdown",
      "source": [
        "# Has Warranty"
      ],
      "metadata": {
        "id": "wUwoNRzoTTmP"
      }
    },
    {
      "cell_type": "code",
      "source": [
        "color = ['Green',\"Red\"]"
      ],
      "metadata": {
        "id": "by4kvrCBTV_C"
      },
      "execution_count": 38,
      "outputs": []
    },
    {
      "cell_type": "code",
      "source": [
        "plt.figure(figsize=(4, 5))\n",
        "df['has_warranty'].value_counts()\\\n",
        "                .plot(kind='bar',color=color)\n",
        "plt.show()"
      ],
      "metadata": {
        "colab": {
          "base_uri": "https://localhost:8080/",
          "height": 466
        },
        "id": "g-80BG5bTflp",
        "outputId": "2ebdc797-f1e7-40aa-d953-b189b3759bf9"
      },
      "execution_count": 37,
      "outputs": [
        {
          "output_type": "display_data",
          "data": {
            "text/plain": [
              "<Figure size 400x500 with 1 Axes>"
            ],
            "image/png": "[encoded data removed]"
          },
          "metadata": {}
        }
      ]
    }
  ]
}